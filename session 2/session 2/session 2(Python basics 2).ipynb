{
  "nbformat": 4,
  "nbformat_minor": 0,
  "metadata": {
    "kernelspec": {
      "display_name": "Python 3",
      "language": "python",
      "name": "python3"
    },
    "language_info": {
      "codemirror_mode": {
        "name": "ipython",
        "version": 3
      },
      "file_extension": ".py",
      "mimetype": "text/x-python",
      "name": "python",
      "nbconvert_exporter": "python",
      "pygments_lexer": "ipython3",
      "version": "3.7.3"
    },
    "colab": {
      "name": "session 2(Python basics 2).ipynb",
      "provenance": [],
      "include_colab_link": true
    }
  },
  "cells": [
    {
      "cell_type": "markdown",
      "metadata": {
        "id": "view-in-github",
        "colab_type": "text"
      },
      "source": [
        "<a href=\"https://colab.research.google.com/github/Soumya007-developer/DataScience-Hands-On/blob/master/session%202/session%202(Python%20basics%202).ipynb\" target=\"_parent\"><img src=\"https://colab.research.google.com/assets/colab-badge.svg\" alt=\"Open In Colab\"/></a>"
      ]
    },
    {
      "cell_type": "markdown",
      "metadata": {
        "id": "FHr4JHf1-9F7",
        "colab_type": "text"
      },
      "source": [
        "<h2>Starting with Loops</h2>\n",
        "<h3>1.While Loop</h3>\n",
        "<h3>2.For Loop</h3>"
      ]
    },
    {
      "cell_type": "code",
      "metadata": {
        "id": "G_0XjfUC-9F-",
        "colab_type": "code",
        "colab": {
          "base_uri": "https://localhost:8080/",
          "height": 34
        },
        "outputId": "8e1a056a-20b8-48b1-fc03-bf6a37c06594"
      },
      "source": [
        "##while loop\n",
        "i = 0\n",
        "while i<10:\n",
        "    print(i,end=\",\")\n",
        "    i+=1\n",
        "    ##end specifies whether it is printed with \\n(next line) or space between numbers or any expression between numbers. By default \"\\n\" is always used."
      ],
      "execution_count": 1,
      "outputs": [
        {
          "output_type": "stream",
          "text": [
            "0,1,2,3,4,5,6,7,8,9,"
          ],
          "name": "stdout"
        }
      ]
    },
    {
      "cell_type": "code",
      "metadata": {
        "id": "USwdAcSR-9GM",
        "colab_type": "code",
        "colab": {},
        "outputId": "527dfabe-0437-422f-fccc-bbc4cbb0ea8f"
      },
      "source": [
        "##for in loop\n",
        "for ele in range(10): #ele is a variable applied on function range()\n",
        "    print(ele,end=\",\")\n",
        "    \n"
      ],
      "execution_count": null,
      "outputs": [
        {
          "output_type": "stream",
          "text": [
            "0,1,2,3,4,5,6,7,8,9,"
          ],
          "name": "stdout"
        }
      ]
    },
    {
      "cell_type": "code",
      "metadata": {
        "id": "ONDgThiP-9GS",
        "colab_type": "code",
        "colab": {},
        "outputId": "69ea5b1c-a576-46e2-c9b4-9596cd16244f"
      },
      "source": [
        "##To print odd numbers between 3 and 21:\n",
        "for ele in range(3,21):\n",
        "    if ele%2 != 0:\n",
        "        print(ele,end=\",\")\n",
        "    "
      ],
      "execution_count": null,
      "outputs": [
        {
          "output_type": "stream",
          "text": [
            "3,5,7,9,11,13,15,17,19,"
          ],
          "name": "stdout"
        }
      ]
    },
    {
      "cell_type": "code",
      "metadata": {
        "id": "EKeCm0rU-9GX",
        "colab_type": "code",
        "colab": {},
        "outputId": "31a64401-5452-4b4e-c8fe-7f1766d87a7d"
      },
      "source": [
        "##If we add a parameter\"step-size\" in the range():\n",
        "for ele in range(3,21,2):##step-size=2 means it jumps 2 places as it proceeds in the function.\n",
        "    print(ele,end=\",\")"
      ],
      "execution_count": null,
      "outputs": [
        {
          "output_type": "stream",
          "text": [
            "3,5,7,9,11,13,15,17,19,"
          ],
          "name": "stdout"
        }
      ]
    },
    {
      "cell_type": "markdown",
      "metadata": {
        "id": "2v21lKJo-9Gc",
        "colab_type": "text"
      },
      "source": [
        "<h2> Strings </h2>"
      ]
    },
    {
      "cell_type": "code",
      "metadata": {
        "id": "xak0jlsg-9Gd",
        "colab_type": "code",
        "colab": {},
        "outputId": "87b8f26f-1393-43e6-8b16-943903dccceb"
      },
      "source": [
        "##Types of strings\n",
        "## '' , \" \", \"\"\"  \"\"\"\n",
        "## Triple quotes are used for multiline\n",
        "st = \"Hi. I'm Soumya Ranjan Ram\"\n",
        "print(st)\n",
        "\n"
      ],
      "execution_count": null,
      "outputs": [
        {
          "output_type": "stream",
          "text": [
            "Hi. I'm Soumya Ranjan Ram\n"
          ],
          "name": "stdout"
        }
      ]
    },
    {
      "cell_type": "code",
      "metadata": {
        "id": "DsVqcOWG-9Gl",
        "colab_type": "code",
        "colab": {
          "base_uri": "https://localhost:8080/",
          "height": 67
        },
        "outputId": "3a4aaafe-7603-4a66-b980-10b707abee88"
      },
      "source": [
        "st = \"\"\"My name is Soumya. \n",
        "\n",
        "I'm from Delhi\"\"\"\n",
        "print(st)"
      ],
      "execution_count": 5,
      "outputs": [
        {
          "output_type": "stream",
          "text": [
            "My name is Soumya. \n",
            "\n",
            "I'm from Delhi\n"
          ],
          "name": "stdout"
        }
      ]
    },
    {
      "cell_type": "code",
      "metadata": {
        "id": "rjyvt1Da_hVp",
        "colab_type": "code",
        "colab": {
          "base_uri": "https://localhost:8080/",
          "height": 50
        },
        "outputId": "832138b8-9de4-4a52-d960-55607b2ddb5f"
      },
      "source": [
        "##To make all letters in lower case & upper case\n",
        "st = \"My name is Soumya . I live in Delhi\"\n",
        "print(st.lower())\n",
        "print(st.upper())"
      ],
      "execution_count": 8,
      "outputs": [
        {
          "output_type": "stream",
          "text": [
            "my name is soumya . i live in delhi\n",
            "MY NAME IS SOUMYA . I LIVE IN DELHI\n"
          ],
          "name": "stdout"
        }
      ]
    }
  ]
}