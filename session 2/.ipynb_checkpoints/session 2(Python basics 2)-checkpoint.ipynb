{
 "cells": [
  {
   "cell_type": "markdown",
   "metadata": {},
   "source": [
    "<h2>Starting with Loops</h2>\n",
    "<h3>1.While Loop</h3>\n",
    "<h3>2.For Loop</h3>"
   ]
  },
  {
   "cell_type": "code",
   "execution_count": 4,
   "metadata": {},
   "outputs": [
    {
     "name": "stdout",
     "output_type": "stream",
     "text": [
      "0,1,2,3,4,5,6,7,8,9,"
     ]
    }
   ],
   "source": [
    "##while loop\n",
    "i = 0\n",
    "while i<10:\n",
    "    print(i,end=\",\")\n",
    "    i+=1\n",
    "    ##end specifies whether it is printed with \\n(next line) or space between numbers or any expression between numbers. By default \"\\n\" is always used."
   ]
  },
  {
   "cell_type": "code",
   "execution_count": 5,
   "metadata": {},
   "outputs": [
    {
     "name": "stdout",
     "output_type": "stream",
     "text": [
      "0,1,2,3,4,5,6,7,8,9,"
     ]
    }
   ],
   "source": [
    "##for in loop\n",
    "for ele in range(10): #ele is a variable applied on function range()\n",
    "    print(ele,end=\",\")\n",
    "    \n"
   ]
  },
  {
   "cell_type": "code",
   "execution_count": 8,
   "metadata": {},
   "outputs": [
    {
     "name": "stdout",
     "output_type": "stream",
     "text": [
      "3,5,7,9,11,13,15,17,19,"
     ]
    }
   ],
   "source": [
    "##To print odd numbers between 3 and 21:\n",
    "for ele in range(3,21):\n",
    "    if ele%2 != 0:\n",
    "        print(ele,end=\",\")\n",
    "    "
   ]
  },
  {
   "cell_type": "code",
   "execution_count": 9,
   "metadata": {},
   "outputs": [
    {
     "name": "stdout",
     "output_type": "stream",
     "text": [
      "3,5,7,9,11,13,15,17,19,"
     ]
    }
   ],
   "source": [
    "##If we add a parameter\"step-size\" in the range():\n",
    "for ele in range(3,21,2):##step-size=2 means it jumps 2 places as it proceeds in the function.\n",
    "    print(ele,end=\",\")"
   ]
  },
  {
   "cell_type": "markdown",
   "metadata": {},
   "source": [
    "<h2> Strings </h2>"
   ]
  },
  {
   "cell_type": "code",
   "execution_count": 10,
   "metadata": {},
   "outputs": [
    {
     "name": "stdout",
     "output_type": "stream",
     "text": [
      "Hi. I'm Soumya Ranjan Ram\n"
     ]
    }
   ],
   "source": [
    "##Types of strings\n",
    "## '' , \" \", \"\"\"  \"\"\"\n",
    "## Triple quotes are used for multiline\n",
    "st = \"Hi. I'm Soumya Ranjan Ram\"\n",
    "print(st)\n",
    "\n"
   ]
  },
  {
   "cell_type": "code",
   "execution_count": null,
   "metadata": {},
   "outputs": [],
   "source": []
  }
 ],
 "metadata": {
  "kernelspec": {
   "display_name": "Python 3",
   "language": "python",
   "name": "python3"
  },
  "language_info": {
   "codemirror_mode": {
    "name": "ipython",
    "version": 3
   },
   "file_extension": ".py",
   "mimetype": "text/x-python",
   "name": "python",
   "nbconvert_exporter": "python",
   "pygments_lexer": "ipython3",
   "version": "3.7.3"
  }
 },
 "nbformat": 4,
 "nbformat_minor": 2
}
