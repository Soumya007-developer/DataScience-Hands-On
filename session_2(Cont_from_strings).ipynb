{
  "nbformat": 4,
  "nbformat_minor": 0,
  "metadata": {
    "kernelspec": {
      "display_name": "Python 3",
      "language": "python",
      "name": "python3"
    },
    "language_info": {
      "codemirror_mode": {
        "name": "ipython",
        "version": 3
      },
      "file_extension": ".py",
      "mimetype": "text/x-python",
      "name": "python",
      "nbconvert_exporter": "python",
      "pygments_lexer": "ipython3",
      "version": "3.7.4"
    },
    "colab": {
      "name": "session 2(Cont from strings).ipynb",
      "provenance": [],
      "include_colab_link": true
    }
  },
  "cells": [
    {
      "cell_type": "markdown",
      "metadata": {
        "id": "view-in-github",
        "colab_type": "text"
      },
      "source": [
        "<a href=\"https://colab.research.google.com/github/Soumya007-developer/DataScience-Hands-On/blob/master/session_2(Cont_from_strings).ipynb\" target=\"_parent\"><img src=\"https://colab.research.google.com/assets/colab-badge.svg\" alt=\"Open In Colab\"/></a>"
      ]
    },
    {
      "cell_type": "markdown",
      "metadata": {
        "id": "h8oX9JcQNX4d"
      },
      "source": [
        "## Strings"
      ]
    },
    {
      "cell_type": "code",
      "metadata": {
        "id": "lXjxabBUNX4f"
      },
      "source": [
        "# ''\n",
        "# \"\"\n",
        "# \"\"\" \"\"\" => multi line \n",
        "\n",
        "st = \"\"\"My name is Mohit. I'm from Delhi\"\"\""
      ],
      "execution_count": null,
      "outputs": []
    },
    {
      "cell_type": "code",
      "metadata": {
        "id": "7uXBcc5fNX4l",
        "outputId": "aa7e4693-6e70-4abc-e780-3edd01af2042"
      },
      "source": [
        "st"
      ],
      "execution_count": null,
      "outputs": [
        {
          "output_type": "execute_result",
          "data": {
            "text/plain": [
              "\"My name is Mohit. I'm from Delhi\""
            ]
          },
          "metadata": {
            "tags": []
          },
          "execution_count": 30
        }
      ]
    },
    {
      "cell_type": "code",
      "metadata": {
        "id": "10uIpmXYNX4y",
        "outputId": "09b1ad4b-97ee-4530-dbae-9ae9424a955a"
      },
      "source": [
        "print(st)"
      ],
      "execution_count": null,
      "outputs": [
        {
          "output_type": "stream",
          "text": [
            "My name is Mohit. I'm from Delhi\n"
          ],
          "name": "stdout"
        }
      ]
    },
    {
      "cell_type": "code",
      "metadata": {
        "id": "0rwOsm1VNX43",
        "outputId": "5f37d003-4fff-49f7-bd09-16df89e3ce21"
      },
      "source": [
        "type(st)"
      ],
      "execution_count": null,
      "outputs": [
        {
          "output_type": "execute_result",
          "data": {
            "text/plain": [
              "str"
            ]
          },
          "metadata": {
            "tags": []
          },
          "execution_count": 32
        }
      ]
    },
    {
      "cell_type": "code",
      "metadata": {
        "id": "Wl58PFQaNX48",
        "outputId": "a87ef5de-8ecb-4492-8a98-993d6ea47b01"
      },
      "source": [
        "st.upper()"
      ],
      "execution_count": null,
      "outputs": [
        {
          "output_type": "execute_result",
          "data": {
            "text/plain": [
              "\"MY NAME IS MOHIT. I'M FROM DELHI\""
            ]
          },
          "metadata": {
            "tags": []
          },
          "execution_count": 33
        }
      ]
    },
    {
      "cell_type": "code",
      "metadata": {
        "id": "7X-g-xftNX5A",
        "outputId": "3f48f581-32af-4904-f412-c929562ca878"
      },
      "source": [
        "st.lower()"
      ],
      "execution_count": null,
      "outputs": [
        {
          "output_type": "execute_result",
          "data": {
            "text/plain": [
              "\"my name is mohit. i'm from delhi\""
            ]
          },
          "metadata": {
            "tags": []
          },
          "execution_count": 34
        }
      ]
    },
    {
      "cell_type": "code",
      "metadata": {
        "id": "uuK7Ulu0NX5H",
        "outputId": "3636e31a-eef6-4b47-ebcb-591564f1d4c3"
      },
      "source": [
        "st.replace(\"Mohit\" , \"Rohit\")"
      ],
      "execution_count": null,
      "outputs": [
        {
          "output_type": "execute_result",
          "data": {
            "text/plain": [
              "\"My name is Rohit. I'm from Delhi\""
            ]
          },
          "metadata": {
            "tags": []
          },
          "execution_count": 40
        }
      ]
    },
    {
      "cell_type": "code",
      "metadata": {
        "id": "7MGgRWRHNX5N",
        "outputId": "05d9066d-8e1e-41c5-bc52-c7d950bf60f3"
      },
      "source": [
        "\"          I love Python.        \".strip()"
      ],
      "execution_count": null,
      "outputs": [
        {
          "output_type": "execute_result",
          "data": {
            "text/plain": [
              "'I love Python.'"
            ]
          },
          "metadata": {
            "tags": []
          },
          "execution_count": 45
        }
      ]
    },
    {
      "cell_type": "code",
      "metadata": {
        "id": "qpQjSYlONX5U",
        "outputId": "2cc460fb-1ecf-4e24-df98-f563eea4ecf6"
      },
      "source": [
        "st.istitle()"
      ],
      "execution_count": null,
      "outputs": [
        {
          "output_type": "execute_result",
          "data": {
            "text/plain": [
              "False"
            ]
          },
          "metadata": {
            "tags": []
          },
          "execution_count": 47
        }
      ]
    },
    {
      "cell_type": "code",
      "metadata": {
        "id": "gTMSktyTNX5a",
        "outputId": "cee93336-4900-460d-bcd9-5ecbf09e9de4"
      },
      "source": [
        "\"Mohit\".istitle()"
      ],
      "execution_count": null,
      "outputs": [
        {
          "output_type": "execute_result",
          "data": {
            "text/plain": [
              "True"
            ]
          },
          "metadata": {
            "tags": []
          },
          "execution_count": 50
        }
      ]
    },
    {
      "cell_type": "code",
      "metadata": {
        "id": "yAAqayiANX5g",
        "outputId": "fc4e418a-8d8e-4f1b-8acf-168b8ea8012d"
      },
      "source": [
        "st"
      ],
      "execution_count": null,
      "outputs": [
        {
          "output_type": "execute_result",
          "data": {
            "text/plain": [
              "\"My name is Mohit. I'm from Delhi\""
            ]
          },
          "metadata": {
            "tags": []
          },
          "execution_count": 51
        }
      ]
    },
    {
      "cell_type": "code",
      "metadata": {
        "id": "1c5UbgolNX5m",
        "outputId": "f18efe79-ac05-42f6-8143-dbe119369e71"
      },
      "source": [
        "st.count(\"mumbai\")"
      ],
      "execution_count": null,
      "outputs": [
        {
          "output_type": "execute_result",
          "data": {
            "text/plain": [
              "0"
            ]
          },
          "metadata": {
            "tags": []
          },
          "execution_count": 53
        }
      ]
    },
    {
      "cell_type": "code",
      "metadata": {
        "id": "xJpOPAUxNX5r",
        "outputId": "2197e887-3681-453a-a5dd-d8627bf4d535"
      },
      "source": [
        "st.find(\"name\")"
      ],
      "execution_count": null,
      "outputs": [
        {
          "output_type": "execute_result",
          "data": {
            "text/plain": [
              "3"
            ]
          },
          "metadata": {
            "tags": []
          },
          "execution_count": 56
        }
      ]
    },
    {
      "cell_type": "code",
      "metadata": {
        "id": "8vBINjinNX5w",
        "outputId": "6f41cc99-e2ca-4e2a-8b07-9fe3ba58c8bb"
      },
      "source": [
        "# important func.\n",
        "st.split(\".\")"
      ],
      "execution_count": null,
      "outputs": [
        {
          "output_type": "execute_result",
          "data": {
            "text/plain": [
              "['My name is Mohit', \" I'm from Delhi\"]"
            ]
          },
          "metadata": {
            "tags": []
          },
          "execution_count": 66
        }
      ]
    },
    {
      "cell_type": "code",
      "metadata": {
        "id": "LOl-QNdMNX51",
        "outputId": "8c3e858b-b6ca-40fc-ef20-421fe6f4f0e3"
      },
      "source": [
        "st"
      ],
      "execution_count": null,
      "outputs": [
        {
          "output_type": "execute_result",
          "data": {
            "text/plain": [
              "\"My name is Mohit. I'm from Delhi\""
            ]
          },
          "metadata": {
            "tags": []
          },
          "execution_count": 70
        }
      ]
    },
    {
      "cell_type": "code",
      "metadata": {
        "id": "COTQwYbRNX56",
        "outputId": "386e9278-cc4f-451d-e4e9-0cfba2d44494"
      },
      "source": [
        "st[0]"
      ],
      "execution_count": null,
      "outputs": [
        {
          "output_type": "execute_result",
          "data": {
            "text/plain": [
              "'M'"
            ]
          },
          "metadata": {
            "tags": []
          },
          "execution_count": 68
        }
      ]
    },
    {
      "cell_type": "code",
      "metadata": {
        "id": "A8KOqwbvNX5-",
        "outputId": "3e72afc7-7834-4434-afa9-2f222620e798"
      },
      "source": [
        "st[len(st)-2]"
      ],
      "execution_count": null,
      "outputs": [
        {
          "output_type": "execute_result",
          "data": {
            "text/plain": [
              "'h'"
            ]
          },
          "metadata": {
            "tags": []
          },
          "execution_count": 75
        }
      ]
    },
    {
      "cell_type": "code",
      "metadata": {
        "id": "k1q7r006NX6D",
        "outputId": "cf23658a-9fbf-40b6-9324-6bc6578e0120"
      },
      "source": [
        "# backward indexing, negative indexing\n",
        "print(st[-1])\n",
        "print(st[-2])"
      ],
      "execution_count": null,
      "outputs": [
        {
          "output_type": "stream",
          "text": [
            "i\n",
            "h\n"
          ],
          "name": "stdout"
        }
      ]
    },
    {
      "cell_type": "code",
      "metadata": {
        "id": "z3on23SuNX6I",
        "outputId": "1fdb22aa-787d-461e-cc6f-e9a56f0648d8"
      },
      "source": [
        "# slicing\n",
        "# st[  start_idx :  end_idx + 1 ]\n",
        "st[11 : 16]"
      ],
      "execution_count": null,
      "outputs": [
        {
          "output_type": "execute_result",
          "data": {
            "text/plain": [
              "'Mohit'"
            ]
          },
          "metadata": {
            "tags": []
          },
          "execution_count": 81
        }
      ]
    },
    {
      "cell_type": "code",
      "metadata": {
        "id": "trJe77hMNX6M",
        "outputId": "f72d6ef9-8516-4308-8e9b-06ebcf547708"
      },
      "source": [
        "print(st[ : ])\n",
        "print(st[11 : -1])"
      ],
      "execution_count": null,
      "outputs": [
        {
          "output_type": "stream",
          "text": [
            "My name is Mohit. I'm from Delhi\n",
            "Mohit. I'm from Delh\n"
          ],
          "name": "stdout"
        }
      ]
    },
    {
      "cell_type": "code",
      "metadata": {
        "id": "a_WNClm6NX6Y",
        "outputId": "c227657d-4399-4484-989e-022a88e31734"
      },
      "source": [
        "st[9:2:-1] # step size"
      ],
      "execution_count": null,
      "outputs": [
        {
          "output_type": "execute_result",
          "data": {
            "text/plain": [
              "'si eman'"
            ]
          },
          "metadata": {
            "tags": []
          },
          "execution_count": 89
        }
      ]
    },
    {
      "cell_type": "code",
      "metadata": {
        "id": "itsRAYJwNX6e",
        "outputId": "de7b887e-e5db-421c-ce46-f126963fbe57"
      },
      "source": [
        "st[::-1] # reverse"
      ],
      "execution_count": null,
      "outputs": [
        {
          "output_type": "execute_result",
          "data": {
            "text/plain": [
              "\"ihleD morf m'I .tihoM si eman yM\""
            ]
          },
          "metadata": {
            "tags": []
          },
          "execution_count": 94
        }
      ]
    },
    {
      "cell_type": "code",
      "metadata": {
        "id": "YE0Awi_NNX6j"
      },
      "source": [
        "st = \"changed\""
      ],
      "execution_count": null,
      "outputs": []
    },
    {
      "cell_type": "code",
      "metadata": {
        "id": "YSCivEQrNX6o",
        "outputId": "78eabca6-8332-448a-b792-a8736dea7f68"
      },
      "source": [
        "st[0] = \"r\""
      ],
      "execution_count": null,
      "outputs": [
        {
          "output_type": "error",
          "ename": "TypeError",
          "evalue": "'str' object does not support item assignment",
          "traceback": [
            "\u001b[0;31m---------------------------------------------------------------------------\u001b[0m",
            "\u001b[0;31mTypeError\u001b[0m                                 Traceback (most recent call last)",
            "\u001b[0;32m<ipython-input-108-8d553aca5f64>\u001b[0m in \u001b[0;36m<module>\u001b[0;34m\u001b[0m\n\u001b[0;32m----> 1\u001b[0;31m \u001b[0mst\u001b[0m\u001b[0;34m[\u001b[0m\u001b[0;36m0\u001b[0m\u001b[0;34m]\u001b[0m \u001b[0;34m=\u001b[0m \u001b[0;34m\"r\"\u001b[0m\u001b[0;34m\u001b[0m\u001b[0;34m\u001b[0m\u001b[0m\n\u001b[0m",
            "\u001b[0;31mTypeError\u001b[0m: 'str' object does not support item assignment"
          ]
        }
      ]
    },
    {
      "cell_type": "markdown",
      "metadata": {
        "id": "CxLIU0uZNX6t"
      },
      "source": [
        "## Operators\n",
        "- Arthimatic\n",
        "- Logical (and, or, not)\n",
        "- Boolean\n",
        "- bitwise"
      ]
    },
    {
      "cell_type": "code",
      "metadata": {
        "id": "5pSam0v1NX6u",
        "outputId": "b70f414f-981f-41d9-95c0-6fb81c117955"
      },
      "source": [
        "(5>2) and (2>7)"
      ],
      "execution_count": null,
      "outputs": [
        {
          "output_type": "execute_result",
          "data": {
            "text/plain": [
              "False"
            ]
          },
          "metadata": {
            "tags": []
          },
          "execution_count": 112
        }
      ]
    },
    {
      "cell_type": "code",
      "metadata": {
        "id": "q318NwWJNX60",
        "outputId": "d4f96758-47e4-4830-bf03-4bff82d4408d"
      },
      "source": [
        "(7>=7) or (7>10)"
      ],
      "execution_count": null,
      "outputs": [
        {
          "output_type": "execute_result",
          "data": {
            "text/plain": [
              "True"
            ]
          },
          "metadata": {
            "tags": []
          },
          "execution_count": 113
        }
      ]
    },
    {
      "cell_type": "code",
      "metadata": {
        "id": "AnjnZDijNX66",
        "outputId": "cd5fd0d6-4108-4dc2-f9c4-3956c2ffa441"
      },
      "source": [
        "not True"
      ],
      "execution_count": null,
      "outputs": [
        {
          "output_type": "execute_result",
          "data": {
            "text/plain": [
              "False"
            ]
          },
          "metadata": {
            "tags": []
          },
          "execution_count": 114
        }
      ]
    },
    {
      "cell_type": "code",
      "metadata": {
        "id": "TzdyTeYlNX6_",
        "outputId": "55425a91-3f8e-424a-ba4c-57321ac88ca0"
      },
      "source": [
        "not (3>5)"
      ],
      "execution_count": null,
      "outputs": [
        {
          "output_type": "execute_result",
          "data": {
            "text/plain": [
              "True"
            ]
          },
          "metadata": {
            "tags": []
          },
          "execution_count": 158
        }
      ]
    },
    {
      "cell_type": "code",
      "metadata": {
        "id": "VzwIrJmqNX7E",
        "outputId": "dc3e290e-49ae-43a4-d68a-ea60fc78a222"
      },
      "source": [
        "10 & 4"
      ],
      "execution_count": null,
      "outputs": [
        {
          "output_type": "execute_result",
          "data": {
            "text/plain": [
              "0"
            ]
          },
          "metadata": {
            "tags": []
          },
          "execution_count": 117
        }
      ]
    },
    {
      "cell_type": "code",
      "metadata": {
        "id": "Qs4QwzrENX7K",
        "outputId": "657fcf76-519c-4317-9517-f9a2b168df15"
      },
      "source": [
        "10 | 4"
      ],
      "execution_count": null,
      "outputs": [
        {
          "output_type": "execute_result",
          "data": {
            "text/plain": [
              "14"
            ]
          },
          "metadata": {
            "tags": []
          },
          "execution_count": 118
        }
      ]
    },
    {
      "cell_type": "code",
      "metadata": {
        "id": "onxnwQCTNX7O",
        "outputId": "79a148aa-5271-4092-ba7b-fc26713041a1"
      },
      "source": [
        "0b1010"
      ],
      "execution_count": null,
      "outputs": [
        {
          "output_type": "execute_result",
          "data": {
            "text/plain": [
              "10"
            ]
          },
          "metadata": {
            "tags": []
          },
          "execution_count": 127
        }
      ]
    },
    {
      "cell_type": "markdown",
      "metadata": {
        "id": "qTQolhABNX7U"
      },
      "source": [
        "# Functions"
      ]
    },
    {
      "cell_type": "code",
      "metadata": {
        "id": "6X2UjneLNX7W"
      },
      "source": [
        "def hello():\n",
        "    print(\"hello from function\")"
      ],
      "execution_count": null,
      "outputs": []
    },
    {
      "cell_type": "code",
      "metadata": {
        "id": "52JDM_UzNX7a"
      },
      "source": [
        "def func_name(a, b, c):\n",
        "\n",
        "    \"\"\"\n",
        "    This is my sample doc string\n",
        "    \"\"\"\n",
        "    res = a+b\n",
        "    c()\n",
        "    \n",
        "    return res"
      ],
      "execution_count": null,
      "outputs": []
    },
    {
      "cell_type": "code",
      "metadata": {
        "id": "an23IY78NX7e",
        "outputId": "a7cee50e-cfe9-4d54-ac6c-c9f0687bf983"
      },
      "source": [
        "ret_val = func_name(5, 9, hello)"
      ],
      "execution_count": null,
      "outputs": [
        {
          "output_type": "stream",
          "text": [
            "hello from function\n"
          ],
          "name": "stdout"
        }
      ]
    },
    {
      "cell_type": "code",
      "metadata": {
        "id": "XZm7B9bHNX7i",
        "outputId": "6d11d93e-ff89-4439-f2df-c0e58c3ba684"
      },
      "source": [
        "print(ret_val)"
      ],
      "execution_count": null,
      "outputs": [
        {
          "output_type": "stream",
          "text": [
            "14\n"
          ],
          "name": "stdout"
        }
      ]
    },
    {
      "cell_type": "code",
      "metadata": {
        "id": "yRVeb8imNX7o"
      },
      "source": [
        "def authentication(user, passw, login, *args ):\n",
        "    if user ==\"mohit\" and passw ==\"nahi batauga\":\n",
        "        login(agrs)\n",
        "    else:\n",
        "        print(\"user or pasword incorrect\")"
      ],
      "execution_count": null,
      "outputs": []
    },
    {
      "cell_type": "markdown",
      "metadata": {
        "id": "EA8sgvxxNX7x"
      },
      "source": [
        "<b> Keyword arguments</b>"
      ]
    },
    {
      "cell_type": "code",
      "metadata": {
        "id": "uVqu4r6fNX7x"
      },
      "source": [
        "def check(cars, name, age):\n",
        "    print(f\"My name is {name}, my age is {age}, i 've {cars} cars\")"
      ],
      "execution_count": null,
      "outputs": []
    },
    {
      "cell_type": "code",
      "metadata": {
        "id": "PQTX6EAlNX72",
        "outputId": "414516ae-f698-415f-c181-3175d5f64486"
      },
      "source": [
        "check(4, age= 20, name= \"Mohit\"  )"
      ],
      "execution_count": null,
      "outputs": [
        {
          "output_type": "stream",
          "text": [
            "My name is Mohit, my age is 20, i 've 4 cars\n"
          ],
          "name": "stdout"
        }
      ]
    },
    {
      "cell_type": "markdown",
      "metadata": {
        "id": "AK0fRKwZNX7-"
      },
      "source": [
        "### args and kwargs\n",
        "<pre>\n",
        "*args\n",
        "**kwargs\n",
        "</pre>"
      ]
    },
    {
      "cell_type": "code",
      "metadata": {
        "id": "CRyn7H97NX7_"
      },
      "source": [
        "def test_func(*args):\n",
        "    print(args)\n",
        "    print(args[0])\n",
        "    print(args[-1])"
      ],
      "execution_count": null,
      "outputs": []
    },
    {
      "cell_type": "code",
      "metadata": {
        "id": "cKlmKZWkNX8F",
        "outputId": "2946ae6a-c1df-4f50-dc8d-1dfc30a2dd11"
      },
      "source": [
        "test_func(2,5,623,583)"
      ],
      "execution_count": null,
      "outputs": [
        {
          "output_type": "stream",
          "text": [
            "(2, 5, 623, 583)\n",
            "2\n",
            "583\n"
          ],
          "name": "stdout"
        }
      ]
    },
    {
      "cell_type": "code",
      "metadata": {
        "id": "v34NLGqVNX8J"
      },
      "source": [
        "def test_func1(**kwargs):\n",
        "    print(kwargs)\n",
        "    print(kwargs['name'])\n",
        "    print(kwargs['cars'])"
      ],
      "execution_count": null,
      "outputs": []
    },
    {
      "cell_type": "code",
      "metadata": {
        "id": "dwOrqgc9NX8P",
        "outputId": "0eb6a6d4-c542-4c03-83c6-60a97b5a1afe"
      },
      "source": [
        "test_func1(name=\"Mohit\", age=20, cars = 4)"
      ],
      "execution_count": null,
      "outputs": [
        {
          "output_type": "stream",
          "text": [
            "{'name': 'Mohit', 'age': 20, 'cars': 4}\n",
            "Mohit\n",
            "4\n"
          ],
          "name": "stdout"
        }
      ]
    },
    {
      "cell_type": "code",
      "metadata": {
        "id": "MexS-ZXdNX8T"
      },
      "source": [
        "def final_func(no1, no2 , no3, *abcd, **kwargs):\n",
        "    print(no1)\n",
        "    print(no2)\n",
        "    print(no3)\n",
        "    print(abcd)\n",
        "    print(kwargs)"
      ],
      "execution_count": null,
      "outputs": []
    },
    {
      "cell_type": "code",
      "metadata": {
        "id": "e0Cm1OElNX8W",
        "outputId": "a6212d65-ed4f-4709-8884-c6eda36f76c0"
      },
      "source": [
        "final_func(3,4,7, 90,\"Hello\", True,  100, name=\"Mohit\", age=20)"
      ],
      "execution_count": null,
      "outputs": [
        {
          "output_type": "stream",
          "text": [
            "3\n",
            "4\n",
            "7\n",
            "(90, 'Hello', True, 100)\n",
            "{'name': 'Mohit', 'age': 20}\n"
          ],
          "name": "stdout"
        }
      ]
    },
    {
      "cell_type": "markdown",
      "metadata": {
        "id": "_iAG4KbBNX8c"
      },
      "source": [
        "n=5\n",
        "*\n",
        "**\n",
        "***\n",
        "****\n",
        "*****"
      ]
    },
    {
      "cell_type": "code",
      "metadata": {
        "id": "zZ4McNDeNX8d"
      },
      "source": [
        "def pattern(n):\n",
        "    for i in range(1, n+1):\n",
        "        print(\"*\" * i)"
      ],
      "execution_count": null,
      "outputs": []
    },
    {
      "cell_type": "code",
      "metadata": {
        "id": "yX9UNMl5NX8j",
        "outputId": "dd92ff47-f0cb-4bec-b3cc-34318d7a2395"
      },
      "source": [
        "pattern(5)"
      ],
      "execution_count": null,
      "outputs": [
        {
          "output_type": "stream",
          "text": [
            "*\n",
            "**\n",
            "***\n",
            "****\n",
            "*****\n"
          ],
          "name": "stdout"
        }
      ]
    },
    {
      "cell_type": "markdown",
      "metadata": {
        "id": "NaguA69kNX8s"
      },
      "source": [
        "# Data Structures\n",
        "- list\n",
        "- tuples\n",
        "- set\n",
        "- dictionary"
      ]
    },
    {
      "cell_type": "markdown",
      "metadata": {
        "id": "LZyH885iNX8t"
      },
      "source": [
        "### List\n",
        "- indexing\n",
        "- mutable\n",
        "- heterogenous elements (diff datatypes)"
      ]
    },
    {
      "cell_type": "code",
      "metadata": {
        "id": "E2qJReJrNX8t"
      },
      "source": [
        "li = []"
      ],
      "execution_count": null,
      "outputs": []
    },
    {
      "cell_type": "code",
      "metadata": {
        "id": "D1xUYJPFNX8w",
        "outputId": "5bc8eba0-837f-42e5-8967-253e723e4b0a"
      },
      "source": [
        "type(li)"
      ],
      "execution_count": null,
      "outputs": [
        {
          "output_type": "execute_result",
          "data": {
            "text/plain": [
              "list"
            ]
          },
          "metadata": {
            "tags": []
          },
          "execution_count": 206
        }
      ]
    },
    {
      "cell_type": "code",
      "metadata": {
        "id": "kOTZqCYANX82"
      },
      "source": [
        "li2 = list()"
      ],
      "execution_count": null,
      "outputs": []
    },
    {
      "cell_type": "code",
      "metadata": {
        "id": "aGGEP2iaNX85",
        "outputId": "8cc55cce-51b8-458f-a6ba-bfdaab24ef6f"
      },
      "source": [
        "type(li2)"
      ],
      "execution_count": null,
      "outputs": [
        {
          "output_type": "execute_result",
          "data": {
            "text/plain": [
              "list"
            ]
          },
          "metadata": {
            "tags": []
          },
          "execution_count": 217
        }
      ]
    },
    {
      "cell_type": "code",
      "metadata": {
        "id": "jced0B8WNX9B"
      },
      "source": [
        "li = [ 4, 6,2,9,10, 25, 1]"
      ],
      "execution_count": null,
      "outputs": []
    },
    {
      "cell_type": "code",
      "metadata": {
        "id": "OMKfMf4kNX9E",
        "outputId": "2a153161-759e-4c31-d5cb-8bf8a28ee28c"
      },
      "source": [
        "li"
      ],
      "execution_count": null,
      "outputs": [
        {
          "output_type": "execute_result",
          "data": {
            "text/plain": [
              "[4, 6, 2, 9, 10, 25, 1]"
            ]
          },
          "metadata": {
            "tags": []
          },
          "execution_count": 219
        }
      ]
    },
    {
      "cell_type": "code",
      "metadata": {
        "id": "xIRyIkkUNX9H",
        "outputId": "3135a6bb-a67b-48bf-a180-fdc2a8f044b8"
      },
      "source": [
        "print(li[0])\n",
        "print(li[-1])\n",
        "\n",
        "# slicing\n",
        "print(li[2:-1])"
      ],
      "execution_count": null,
      "outputs": [
        {
          "output_type": "stream",
          "text": [
            "4\n",
            "1\n",
            "[2, 9, 10, 25]\n"
          ],
          "name": "stdout"
        }
      ]
    },
    {
      "cell_type": "code",
      "metadata": {
        "id": "I9ZdVYhWNX9N"
      },
      "source": [
        "li[0] = 100"
      ],
      "execution_count": null,
      "outputs": []
    },
    {
      "cell_type": "code",
      "metadata": {
        "id": "hHBsa1WnNX9R",
        "outputId": "f836bc56-7db3-4c48-e016-0c780ebb0071"
      },
      "source": [
        "li"
      ],
      "execution_count": null,
      "outputs": [
        {
          "output_type": "execute_result",
          "data": {
            "text/plain": [
              "[100, 6, 2, 9, 10, 25, 1]"
            ]
          },
          "metadata": {
            "tags": []
          },
          "execution_count": 226
        }
      ]
    },
    {
      "cell_type": "code",
      "metadata": {
        "id": "G6Sap9MaNX9V"
      },
      "source": [
        "li2 = [2,6,1, 6.26, 1.09, \"Mohit\", \"Hello\", True]"
      ],
      "execution_count": null,
      "outputs": []
    },
    {
      "cell_type": "code",
      "metadata": {
        "id": "A2Q-HYAZNX9Y",
        "outputId": "ccf4cf0b-55d1-4550-89d1-51d63c8801c5"
      },
      "source": [
        "li2"
      ],
      "execution_count": null,
      "outputs": [
        {
          "output_type": "execute_result",
          "data": {
            "text/plain": [
              "[2, 6, 1, 6.26, 1.09, 'Mohit', 'Hello', True]"
            ]
          },
          "metadata": {
            "tags": []
          },
          "execution_count": 228
        }
      ]
    },
    {
      "cell_type": "code",
      "metadata": {
        "id": "PygnnqaPNX9b",
        "outputId": "13ec0d6c-6d82-428f-9243-83d9266b7a37"
      },
      "source": [
        "li2[5]"
      ],
      "execution_count": null,
      "outputs": [
        {
          "output_type": "execute_result",
          "data": {
            "text/plain": [
              "'Mohit'"
            ]
          },
          "metadata": {
            "tags": []
          },
          "execution_count": 232
        }
      ]
    },
    {
      "cell_type": "code",
      "metadata": {
        "id": "Yyil8yg0NX9f"
      },
      "source": [
        "# nested List\n",
        "li_new =  [ [1,2,3] , [\"Mohit\", \"Uniyal\"] , [\"Cars\" ,\"biks\"], [[90, 10, 45, [\"pickme\"]]] ]"
      ],
      "execution_count": null,
      "outputs": []
    },
    {
      "cell_type": "code",
      "metadata": {
        "id": "PMrhwnj_NX9j",
        "outputId": "aa7ad07d-013e-4384-f4ef-10a5b4c6f30e"
      },
      "source": [
        "len(li_new)"
      ],
      "execution_count": null,
      "outputs": [
        {
          "output_type": "execute_result",
          "data": {
            "text/plain": [
              "4"
            ]
          },
          "metadata": {
            "tags": []
          },
          "execution_count": 234
        }
      ]
    },
    {
      "cell_type": "code",
      "metadata": {
        "id": "dXs44vUxNX9m",
        "outputId": "2bd47e19-0990-4b71-dd31-48ff8c632542"
      },
      "source": [
        "li_new[-1][0][-1][0]"
      ],
      "execution_count": null,
      "outputs": [
        {
          "output_type": "execute_result",
          "data": {
            "text/plain": [
              "'pickme'"
            ]
          },
          "metadata": {
            "tags": []
          },
          "execution_count": 241
        }
      ]
    },
    {
      "cell_type": "code",
      "metadata": {
        "id": "4vkzKdW7NX9p"
      },
      "source": [
        "mat = [[9,8,7] ,  [1,2,3] , [7,5,4], [9,0,1]]"
      ],
      "execution_count": null,
      "outputs": []
    },
    {
      "cell_type": "code",
      "metadata": {
        "id": "2iAclnmKNX9r",
        "outputId": "2b15aeac-133a-4afd-8be7-fc838270b2d7"
      },
      "source": [
        "len(mat)"
      ],
      "execution_count": null,
      "outputs": [
        {
          "output_type": "execute_result",
          "data": {
            "text/plain": [
              "4"
            ]
          },
          "metadata": {
            "tags": []
          },
          "execution_count": 245
        }
      ]
    },
    {
      "cell_type": "code",
      "metadata": {
        "id": "rGf4upB1NX9v"
      },
      "source": [
        "li.append(899)"
      ],
      "execution_count": null,
      "outputs": []
    },
    {
      "cell_type": "code",
      "metadata": {
        "id": "zUToNHQnNX91",
        "outputId": "f6eca70a-487f-4c18-adb5-a8ad4f35bd34"
      },
      "source": [
        "li"
      ],
      "execution_count": null,
      "outputs": [
        {
          "output_type": "execute_result",
          "data": {
            "text/plain": [
              "[100, 6, 2, 9, 10, 25, 1, 899]"
            ]
          },
          "metadata": {
            "tags": []
          },
          "execution_count": 252
        }
      ]
    },
    {
      "cell_type": "code",
      "metadata": {
        "id": "-rHKRRaCNX93"
      },
      "source": [
        "li.insert(2, 333)"
      ],
      "execution_count": null,
      "outputs": []
    },
    {
      "cell_type": "code",
      "metadata": {
        "id": "RBV3fh-8NX96",
        "outputId": "b90e39b0-2a7a-4cf8-fa93-3ba052f889b5"
      },
      "source": [
        "li"
      ],
      "execution_count": null,
      "outputs": [
        {
          "output_type": "execute_result",
          "data": {
            "text/plain": [
              "[100, 6, 333, 2, 9, 10, 25, 1, 899]"
            ]
          },
          "metadata": {
            "tags": []
          },
          "execution_count": 254
        }
      ]
    },
    {
      "cell_type": "code",
      "metadata": {
        "id": "i8vVunNGNX9-"
      },
      "source": [
        "# extend"
      ],
      "execution_count": null,
      "outputs": []
    },
    {
      "cell_type": "code",
      "metadata": {
        "id": "fjw0gnToNX-B",
        "outputId": "91ec71a3-0fa2-452b-8511-6770677cbf23"
      },
      "source": [
        "li.remove(999)"
      ],
      "execution_count": null,
      "outputs": [
        {
          "output_type": "error",
          "ename": "ValueError",
          "evalue": "list.remove(x): x not in list",
          "traceback": [
            "\u001b[0;31m---------------------------------------------------------------------------\u001b[0m",
            "\u001b[0;31mValueError\u001b[0m                                Traceback (most recent call last)",
            "\u001b[0;32m<ipython-input-256-ddd03a76c9c0>\u001b[0m in \u001b[0;36m<module>\u001b[0;34m\u001b[0m\n\u001b[0;32m----> 1\u001b[0;31m \u001b[0mli\u001b[0m\u001b[0;34m.\u001b[0m\u001b[0mremove\u001b[0m\u001b[0;34m(\u001b[0m\u001b[0;36m999\u001b[0m\u001b[0;34m)\u001b[0m\u001b[0;34m\u001b[0m\u001b[0;34m\u001b[0m\u001b[0m\n\u001b[0m",
            "\u001b[0;31mValueError\u001b[0m: list.remove(x): x not in list"
          ]
        }
      ]
    },
    {
      "cell_type": "code",
      "metadata": {
        "id": "B5Qz2YeZNX-D"
      },
      "source": [
        "li.reverse()"
      ],
      "execution_count": null,
      "outputs": []
    },
    {
      "cell_type": "code",
      "metadata": {
        "id": "_AYe6DE5NX-E",
        "outputId": "7388c853-d9f1-4e29-d48c-8cc2064d51da"
      },
      "source": [
        "li"
      ],
      "execution_count": null,
      "outputs": [
        {
          "output_type": "execute_result",
          "data": {
            "text/plain": [
              "[899, 1, 25, 10, 9, 2, 333, 6, 100]"
            ]
          },
          "metadata": {
            "tags": []
          },
          "execution_count": 258
        }
      ]
    },
    {
      "cell_type": "code",
      "metadata": {
        "id": "NlOCQdQ3NX-H",
        "outputId": "a7064119-06e3-4682-bd25-49c3c4bc4ec4"
      },
      "source": [
        "li[::-1]"
      ],
      "execution_count": null,
      "outputs": [
        {
          "output_type": "execute_result",
          "data": {
            "text/plain": [
              "[899, 333, 100, 25, 10, 9, 6, 2, 1]"
            ]
          },
          "metadata": {
            "tags": []
          },
          "execution_count": 262
        }
      ]
    },
    {
      "cell_type": "code",
      "metadata": {
        "id": "bZ3chNw0NX-M"
      },
      "source": [
        "li.sort()"
      ],
      "execution_count": null,
      "outputs": []
    },
    {
      "cell_type": "code",
      "metadata": {
        "id": "av9HQs-DNX-O",
        "outputId": "a9f1d7e2-07be-4eea-e42b-a65a51611bcd"
      },
      "source": [
        "li"
      ],
      "execution_count": null,
      "outputs": [
        {
          "output_type": "execute_result",
          "data": {
            "text/plain": [
              "[1, 2, 6, 9, 10, 25, 100, 333, 899]"
            ]
          },
          "metadata": {
            "tags": []
          },
          "execution_count": 261
        }
      ]
    },
    {
      "cell_type": "code",
      "metadata": {
        "id": "vfVGwHP5NX-Q",
        "outputId": "6208d0be-2b20-4483-b472-6837b01f8408"
      },
      "source": [
        "li[::-1]"
      ],
      "execution_count": null,
      "outputs": [
        {
          "output_type": "execute_result",
          "data": {
            "text/plain": [
              "[899, 333, 100, 25, 10, 9, 6, 2, 1]"
            ]
          },
          "metadata": {
            "tags": []
          },
          "execution_count": 269
        }
      ]
    },
    {
      "cell_type": "code",
      "metadata": {
        "id": "UqOMew2cNX-S"
      },
      "source": [
        "li = [1,2,3,4,5]"
      ],
      "execution_count": null,
      "outputs": []
    },
    {
      "cell_type": "code",
      "metadata": {
        "id": "iFaW94PhNX-T"
      },
      "source": [
        "li2 = li"
      ],
      "execution_count": null,
      "outputs": []
    },
    {
      "cell_type": "code",
      "metadata": {
        "id": "SJSi__yTNX-X"
      },
      "source": [
        "li2[0] = 100"
      ],
      "execution_count": null,
      "outputs": []
    },
    {
      "cell_type": "code",
      "metadata": {
        "id": "OvGowsPYNX-Z",
        "outputId": "1822510a-d82b-45f1-973d-0e67a9524f16"
      },
      "source": [
        "li2"
      ],
      "execution_count": null,
      "outputs": [
        {
          "output_type": "execute_result",
          "data": {
            "text/plain": [
              "[100, 2, 3, 4, 5]"
            ]
          },
          "metadata": {
            "tags": []
          },
          "execution_count": 273
        }
      ]
    },
    {
      "cell_type": "code",
      "metadata": {
        "id": "wsl4Vz-JNX-b",
        "outputId": "319ae155-9174-4e9c-8dd6-4acf6999bed1"
      },
      "source": [
        "li"
      ],
      "execution_count": null,
      "outputs": [
        {
          "output_type": "execute_result",
          "data": {
            "text/plain": [
              "[100, 2, 3, 4, 5]"
            ]
          },
          "metadata": {
            "tags": []
          },
          "execution_count": 274
        }
      ]
    },
    {
      "cell_type": "code",
      "metadata": {
        "id": "3ICdpsu_NX-d"
      },
      "source": [
        "l1 =[1,2,3, 4]\n",
        "l2 = li.copy()"
      ],
      "execution_count": null,
      "outputs": []
    },
    {
      "cell_type": "code",
      "metadata": {
        "id": "3z0BvTbgNX-f"
      },
      "source": [
        "l2[0] = 100"
      ],
      "execution_count": null,
      "outputs": []
    },
    {
      "cell_type": "code",
      "metadata": {
        "id": "o4rjNiF9NX-h",
        "outputId": "cd0ae9a4-a64e-44f0-a2c4-3101293b060a"
      },
      "source": [
        "l2"
      ],
      "execution_count": null,
      "outputs": [
        {
          "output_type": "execute_result",
          "data": {
            "text/plain": [
              "[100, 2, 3, 4, 5]"
            ]
          },
          "metadata": {
            "tags": []
          },
          "execution_count": 277
        }
      ]
    },
    {
      "cell_type": "code",
      "metadata": {
        "id": "pOnYWahJNX-j",
        "outputId": "cc5cdc2f-0c28-4295-c996-2ed41d53388b"
      },
      "source": [
        "l1"
      ],
      "execution_count": null,
      "outputs": [
        {
          "output_type": "execute_result",
          "data": {
            "text/plain": [
              "[1, 2, 3, 4]"
            ]
          },
          "metadata": {
            "tags": []
          },
          "execution_count": 278
        }
      ]
    },
    {
      "cell_type": "code",
      "metadata": {
        "id": "7SQQg7anNX-l"
      },
      "source": [
        "## in operator => membership"
      ],
      "execution_count": null,
      "outputs": []
    },
    {
      "cell_type": "code",
      "metadata": {
        "id": "GscaWgsXNX-m",
        "outputId": "a3ac0685-4bd0-4d80-e79c-3ce4676b80f1"
      },
      "source": [
        "4 in l1"
      ],
      "execution_count": null,
      "outputs": [
        {
          "output_type": "execute_result",
          "data": {
            "text/plain": [
              "True"
            ]
          },
          "metadata": {
            "tags": []
          },
          "execution_count": 285
        }
      ]
    },
    {
      "cell_type": "code",
      "metadata": {
        "id": "3OebnkgDNX-p",
        "outputId": "4a5bc0eb-4089-4b06-8075-d3a09cf3875c"
      },
      "source": [
        "\"M\" in \"Im mohit\""
      ],
      "execution_count": null,
      "outputs": [
        {
          "output_type": "execute_result",
          "data": {
            "text/plain": [
              "False"
            ]
          },
          "metadata": {
            "tags": []
          },
          "execution_count": 286
        }
      ]
    },
    {
      "cell_type": "code",
      "metadata": {
        "id": "v13x3ON4NX-r"
      },
      "source": [
        ""
      ],
      "execution_count": null,
      "outputs": []
    }
  ]
}