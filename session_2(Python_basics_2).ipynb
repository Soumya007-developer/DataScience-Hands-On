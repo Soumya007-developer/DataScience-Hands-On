{
  "nbformat": 4,
  "nbformat_minor": 0,
  "metadata": {
    "kernelspec": {
      "display_name": "Python 3",
      "language": "python",
      "name": "python3"
    },
    "language_info": {
      "codemirror_mode": {
        "name": "ipython",
        "version": 3
      },
      "file_extension": ".py",
      "mimetype": "text/x-python",
      "name": "python",
      "nbconvert_exporter": "python",
      "pygments_lexer": "ipython3",
      "version": "3.7.3"
    },
    "colab": {
      "name": "session 2(Python basics 2).ipynb",
      "provenance": [],
      "collapsed_sections": []
    }
  },
  "cells": [
    {
      "cell_type": "markdown",
      "metadata": {
        "id": "ocLzgqQFJ61Z"
      },
      "source": [
        "<h2>Starting with Loops</h2>\n",
        "<h3>1.While Loop</h3>\n",
        "<h3>2.For Loop</h3>"
      ]
    },
    {
      "cell_type": "code",
      "metadata": {
        "id": "n4oG47CDJ61b",
        "outputId": "52b28f09-0807-4d87-dbfb-8d38f729657c"
      },
      "source": [
        "##while loop\n",
        "i = 0\n",
        "while i<10:\n",
        "    print(i,end=\",\")\n",
        "    i+=1\n",
        "    ##end specifies whether it is printed with \\n(next line) or space between numbers or any expression between numbers. By default \"\\n\" is always used."
      ],
      "execution_count": null,
      "outputs": [
        {
          "output_type": "stream",
          "text": [
            "0,1,2,3,4,5,6,7,8,9,"
          ],
          "name": "stdout"
        }
      ]
    },
    {
      "cell_type": "code",
      "metadata": {
        "id": "g2T9xK9jJ61k",
        "outputId": "c926bb0d-ae3b-4a7f-c472-a0c7df6b0333"
      },
      "source": [
        "##for in loop\n",
        "for ele in range(10): #ele is a variable applied on function range()\n",
        "    print(ele,end=\",\")\n",
        "    \n"
      ],
      "execution_count": null,
      "outputs": [
        {
          "output_type": "stream",
          "text": [
            "0,1,2,3,4,5,6,7,8,9,"
          ],
          "name": "stdout"
        }
      ]
    },
    {
      "cell_type": "code",
      "metadata": {
        "id": "wPSf123RJ61s",
        "outputId": "968517a6-b8a1-4603-d684-00a71fa8099a"
      },
      "source": [
        "##To print odd numbers between 3 and 21:\n",
        "for ele in range(3,21):\n",
        "    if ele%2 != 0:\n",
        "        print(ele,end=\",\")\n",
        "    "
      ],
      "execution_count": null,
      "outputs": [
        {
          "output_type": "stream",
          "text": [
            "3,5,7,9,11,13,15,17,19,"
          ],
          "name": "stdout"
        }
      ]
    },
    {
      "cell_type": "code",
      "metadata": {
        "id": "kukSazGuJ61z",
        "outputId": "51f4002b-182a-4ef5-acf3-a06deede8825"
      },
      "source": [
        "##If we add a parameter\"step-size\" in the range():\n",
        "for ele in range(3,21,2):##step-size=2 means it jumps 2 places as it proceeds in the function.\n",
        "    print(ele,end=\",\")"
      ],
      "execution_count": null,
      "outputs": [
        {
          "output_type": "stream",
          "text": [
            "3,5,7,9,11,13,15,17,19,"
          ],
          "name": "stdout"
        }
      ]
    },
    {
      "cell_type": "markdown",
      "metadata": {
        "id": "QKi9LdHrJ61-"
      },
      "source": [
        "<h2> Strings </h2>"
      ]
    },
    {
      "cell_type": "code",
      "metadata": {
        "id": "qdjoMH0-J61_",
        "outputId": "35433089-c019-4574-bc46-9eeeec983616",
        "colab": {
          "base_uri": "https://localhost:8080/",
          "height": 34
        }
      },
      "source": [
        "##Types of strings\n",
        "## '' , \" \", \"\"\"  \"\"\"\n",
        "## Triple quotes are used for multiline\n",
        "st = \"Hi. I'm Soumya Ranjan Ram.\"\n",
        "print(st)\n",
        "\n"
      ],
      "execution_count": 1,
      "outputs": [
        {
          "output_type": "stream",
          "text": [
            "Hi. I'm Soumya Ranjan Ram.\n"
          ],
          "name": "stdout"
        }
      ]
    },
    {
      "cell_type": "code",
      "metadata": {
        "id": "jlP_csCZJ62F"
      },
      "source": [
        ""
      ],
      "execution_count": null,
      "outputs": []
    }
  ]
}