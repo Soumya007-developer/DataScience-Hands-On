{
  "nbformat": 4,
  "nbformat_minor": 0,
  "metadata": {
    "kernelspec": {
      "display_name": "Python 3",
      "language": "python",
      "name": "python3"
    },
    "language_info": {
      "codemirror_mode": {
        "name": "ipython",
        "version": 3
      },
      "file_extension": ".py",
      "mimetype": "text/x-python",
      "name": "python",
      "nbconvert_exporter": "python",
      "pygments_lexer": "ipython3",
      "version": "3.7.4"
    },
    "colab": {
      "name": "OOPS.ipynb",
      "provenance": []
    }
  },
  "cells": [
    {
      "cell_type": "markdown",
      "metadata": {
        "id": "NcFmOSIDUO8B"
      },
      "source": [
        "## Python OOPS"
      ]
    },
    {
      "cell_type": "code",
      "metadata": {
        "id": "hAdhlwOOUO8D"
      },
      "source": [
        "s = \"hello\""
      ],
      "execution_count": null,
      "outputs": []
    },
    {
      "cell_type": "code",
      "metadata": {
        "id": "EzUs7wKbUO8M",
        "outputId": "a0e14dd0-0f1b-4b24-c8fc-72b67d7fc007"
      },
      "source": [
        "print(type(s))"
      ],
      "execution_count": null,
      "outputs": [
        {
          "output_type": "stream",
          "text": [
            "<class 'str'>\n"
          ],
          "name": "stdout"
        }
      ]
    },
    {
      "cell_type": "code",
      "metadata": {
        "id": "Gm38MbDRUO8V"
      },
      "source": [
        "def happy(name):\n",
        "    return name + \" is happy\""
      ],
      "execution_count": null,
      "outputs": []
    },
    {
      "cell_type": "code",
      "metadata": {
        "id": "QKqb_inKUO8c"
      },
      "source": [
        "class Person:\n",
        "    \n",
        "    # class variable\n",
        "    nationality = \"Indian\"\n",
        "    \n",
        "    # constructor\n",
        "    def __init__(self, your_name, age):\n",
        "        print(\"constructor is called\")\n",
        "        self.name = your_name\n",
        "        self.age = age\n",
        "        self.hobbies = []\n",
        "    \n",
        "    def hobby_added(self):\n",
        "        print(\"Your hobby is added\")\n",
        "    \n",
        "    def introduce(self):\n",
        "        print(f\"My name is {self.name} , my age is {self.age}, i am  {self.nationality}\", happy(self.name))\n",
        "        \n",
        "    def add_hobbies(self, hobbi_name):\n",
        "        self.hobbies.append(hobbi_name)\n",
        "        self.hobby_added()"
      ],
      "execution_count": null,
      "outputs": []
    },
    {
      "cell_type": "code",
      "metadata": {
        "id": "Q_Q0TTu9UO8h",
        "outputId": "973b4977-5707-425c-a171-c2a6e2ac6536"
      },
      "source": [
        "p = Person(\"Mohit\", 20)"
      ],
      "execution_count": null,
      "outputs": [
        {
          "output_type": "stream",
          "text": [
            "constructor is called\n"
          ],
          "name": "stdout"
        }
      ]
    },
    {
      "cell_type": "code",
      "metadata": {
        "id": "2XP6OKJ6UO8n",
        "outputId": "1b9d19b1-7ce2-4b39-9e30-d3b4ef34a3d0"
      },
      "source": [
        "type(p)"
      ],
      "execution_count": null,
      "outputs": [
        {
          "output_type": "execute_result",
          "data": {
            "text/plain": [
              "__main__.Person"
            ]
          },
          "metadata": {
            "tags": []
          },
          "execution_count": 98
        }
      ]
    },
    {
      "cell_type": "code",
      "metadata": {
        "id": "PgPzAbkHUO8s",
        "outputId": "ba5d0a5a-37be-428f-ceab-9d7583d43173"
      },
      "source": [
        "p.name, p.age, p.nationality"
      ],
      "execution_count": null,
      "outputs": [
        {
          "output_type": "execute_result",
          "data": {
            "text/plain": [
              "('Mohit', 20, 'Indian')"
            ]
          },
          "metadata": {
            "tags": []
          },
          "execution_count": 99
        }
      ]
    },
    {
      "cell_type": "code",
      "metadata": {
        "id": "PUXer-gXUO80",
        "outputId": "a865e81d-c72a-40f4-f4e3-991ac382ff63"
      },
      "source": [
        "p.add_hobbies(\"Cricket\")"
      ],
      "execution_count": null,
      "outputs": [
        {
          "output_type": "stream",
          "text": [
            "Your hobby is added\n"
          ],
          "name": "stdout"
        }
      ]
    },
    {
      "cell_type": "code",
      "metadata": {
        "id": "UcIl_3_AUO85",
        "outputId": "addb5105-31a5-46af-ce57-efa7edabf984"
      },
      "source": [
        "p.add_hobbies(\"chess\")"
      ],
      "execution_count": null,
      "outputs": [
        {
          "output_type": "stream",
          "text": [
            "Your hobby is added\n"
          ],
          "name": "stdout"
        }
      ]
    },
    {
      "cell_type": "code",
      "metadata": {
        "id": "iDiIeh97UO89",
        "outputId": "8baec8b7-18c8-4f3a-d74c-f8559ce8846c"
      },
      "source": [
        "p.hobbies"
      ],
      "execution_count": null,
      "outputs": [
        {
          "output_type": "execute_result",
          "data": {
            "text/plain": [
              "['Cricket', 'chess']"
            ]
          },
          "metadata": {
            "tags": []
          },
          "execution_count": 102
        }
      ]
    },
    {
      "cell_type": "code",
      "metadata": {
        "id": "QJZRlLmIUO9B"
      },
      "source": [
        "# instance var is created not affected class var.\n",
        "p.nationality = \"American\""
      ],
      "execution_count": null,
      "outputs": []
    },
    {
      "cell_type": "code",
      "metadata": {
        "id": "hfMs_PPIUO9K",
        "outputId": "78495d56-df69-40d9-b1ec-79ad5b7c96a0"
      },
      "source": [
        "p.nationality"
      ],
      "execution_count": null,
      "outputs": [
        {
          "output_type": "execute_result",
          "data": {
            "text/plain": [
              "'American'"
            ]
          },
          "metadata": {
            "tags": []
          },
          "execution_count": 113
        }
      ]
    },
    {
      "cell_type": "code",
      "metadata": {
        "id": "u7c9xx-SUO9Q",
        "outputId": "b8763739-8bf9-47b1-825a-39a900a72b93"
      },
      "source": [
        "Person.nationality"
      ],
      "execution_count": null,
      "outputs": [
        {
          "output_type": "execute_result",
          "data": {
            "text/plain": [
              "'Indian'"
            ]
          },
          "metadata": {
            "tags": []
          },
          "execution_count": 108
        }
      ]
    },
    {
      "cell_type": "code",
      "metadata": {
        "id": "-0zRXg9ZUO9X",
        "outputId": "8ca36b2c-fae9-4bfe-cbd8-ad0280e95f1f"
      },
      "source": [
        "p1 = Person(\"Rohit\", 17)"
      ],
      "execution_count": null,
      "outputs": [
        {
          "output_type": "stream",
          "text": [
            "constructor is called\n"
          ],
          "name": "stdout"
        }
      ]
    },
    {
      "cell_type": "code",
      "metadata": {
        "id": "BXbZoMyLUO9c",
        "outputId": "a43e7d4d-6ed8-4dd9-e2cd-dadeeb0331d8"
      },
      "source": [
        "p1.name"
      ],
      "execution_count": null,
      "outputs": [
        {
          "output_type": "execute_result",
          "data": {
            "text/plain": [
              "'Rohit'"
            ]
          },
          "metadata": {
            "tags": []
          },
          "execution_count": 106
        }
      ]
    },
    {
      "cell_type": "code",
      "metadata": {
        "id": "Iyu16s_eUO9i",
        "outputId": "b3859617-00f4-4e59-b4e6-086c6a31d7c7"
      },
      "source": [
        "p1.nationality"
      ],
      "execution_count": null,
      "outputs": [
        {
          "output_type": "execute_result",
          "data": {
            "text/plain": [
              "'Indian'"
            ]
          },
          "metadata": {
            "tags": []
          },
          "execution_count": 107
        }
      ]
    },
    {
      "cell_type": "code",
      "metadata": {
        "id": "btsW2f0AUO9p",
        "outputId": "94b51322-800f-4d6c-bf98-26af67e56acd"
      },
      "source": [
        "p1.introduce()"
      ],
      "execution_count": null,
      "outputs": [
        {
          "output_type": "stream",
          "text": [
            "My name is Rohit , my age is 17, i am  Indian ('Rohit', 'is happy')\n"
          ],
          "name": "stdout"
        }
      ]
    },
    {
      "cell_type": "code",
      "metadata": {
        "id": "G5muPijRUO9v",
        "outputId": "038f4d05-a08b-4418-e91c-3c6164e166b0"
      },
      "source": [
        "Person.nationality"
      ],
      "execution_count": null,
      "outputs": [
        {
          "output_type": "execute_result",
          "data": {
            "text/plain": [
              "'Indian'"
            ]
          },
          "metadata": {
            "tags": []
          },
          "execution_count": 47
        }
      ]
    },
    {
      "cell_type": "code",
      "metadata": {
        "id": "cNCTdjrLUO91"
      },
      "source": [
        "Person.nationality = \"Russian\""
      ],
      "execution_count": null,
      "outputs": []
    },
    {
      "cell_type": "code",
      "metadata": {
        "id": "_iZuDX2SUO96",
        "outputId": "c7c990d4-82e2-45dc-c3ca-a3bf942f9c44"
      },
      "source": [
        "p1.nationality"
      ],
      "execution_count": null,
      "outputs": [
        {
          "output_type": "execute_result",
          "data": {
            "text/plain": [
              "'Russian'"
            ]
          },
          "metadata": {
            "tags": []
          },
          "execution_count": 110
        }
      ]
    },
    {
      "cell_type": "code",
      "metadata": {
        "id": "uikic63CUO-A",
        "outputId": "b59e5444-474b-4874-8f81-d015fb44c688"
      },
      "source": [
        "p.nationality"
      ],
      "execution_count": null,
      "outputs": [
        {
          "output_type": "execute_result",
          "data": {
            "text/plain": [
              "'American'"
            ]
          },
          "metadata": {
            "tags": []
          },
          "execution_count": 111
        }
      ]
    },
    {
      "cell_type": "code",
      "metadata": {
        "id": "M6cde_UMUO-I"
      },
      "source": [
        ""
      ],
      "execution_count": null,
      "outputs": []
    }
  ]
}